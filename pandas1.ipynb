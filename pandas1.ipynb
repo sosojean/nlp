{
 "cells": [
  {
   "cell_type": "code",
   "execution_count": 2,
   "id": "initial_id",
   "metadata": {
    "collapsed": true,
    "ExecuteTime": {
     "end_time": "2025-09-13T08:16:00.454954Z",
     "start_time": "2025-09-13T08:15:59.917683Z"
    }
   },
   "outputs": [],
   "source": [
    "import pandas as pd"
   ]
  },
  {
   "cell_type": "code",
   "execution_count": 7,
   "outputs": [],
   "source": [
    "df1 = pd.DataFrame(\n",
    "    {\"id\":[100, 102, 107],\n",
    "     \"math\":[99, 100, 97],\n",
    "     \"english\":[95, 92, 94]},\n",
    "    index=[1,2,3]\n",
    ")"
   ],
   "metadata": {
    "collapsed": false,
    "ExecuteTime": {
     "end_time": "2025-09-13T08:19:43.009589Z",
     "start_time": "2025-09-13T08:19:43.002933Z"
    }
   },
   "id": "b3f77ff5a01fd59"
  },
  {
   "cell_type": "code",
   "execution_count": 9,
   "outputs": [
    {
     "data": {
      "text/plain": "    id  math  english\n1  100    99       95\n2  102   100       92\n3  107    97       94",
      "text/html": "<div>\n<style scoped>\n    .dataframe tbody tr th:only-of-type {\n        vertical-align: middle;\n    }\n\n    .dataframe tbody tr th {\n        vertical-align: top;\n    }\n\n    .dataframe thead th {\n        text-align: right;\n    }\n</style>\n<table border=\"1\" class=\"dataframe\">\n  <thead>\n    <tr style=\"text-align: right;\">\n      <th></th>\n      <th>id</th>\n      <th>math</th>\n      <th>english</th>\n    </tr>\n  </thead>\n  <tbody>\n    <tr>\n      <th>1</th>\n      <td>100</td>\n      <td>99</td>\n      <td>95</td>\n    </tr>\n    <tr>\n      <th>2</th>\n      <td>102</td>\n      <td>100</td>\n      <td>92</td>\n    </tr>\n    <tr>\n      <th>3</th>\n      <td>107</td>\n      <td>97</td>\n      <td>94</td>\n    </tr>\n  </tbody>\n</table>\n</div>"
     },
     "execution_count": 9,
     "metadata": {},
     "output_type": "execute_result"
    }
   ],
   "source": [
    "df1"
   ],
   "metadata": {
    "collapsed": false,
    "ExecuteTime": {
     "end_time": "2025-09-13T08:19:48.180903Z",
     "start_time": "2025-09-13T08:19:48.175944Z"
    }
   },
   "id": "34fd23dafbf0b278"
  },
  {
   "cell_type": "code",
   "execution_count": 18,
   "outputs": [],
   "source": [
    "df2 = pd.DataFrame(\n",
    "    [\n",
    "        [100, 99, 95],\n",
    "        [102, 100, 92],\n",
    "        [107, 97, 94],], \n",
    "    columns=[\"id\",\"math\",\"english\"], index=[1,2,3]\n",
    "    )"
   ],
   "metadata": {
    "collapsed": false,
    "ExecuteTime": {
     "end_time": "2025-09-13T08:22:14.525323Z",
     "start_time": "2025-09-13T08:22:14.522244Z"
    }
   },
   "id": "a3352e329aedc2ad"
  },
  {
   "cell_type": "code",
   "execution_count": 19,
   "outputs": [
    {
     "data": {
      "text/plain": "    id  math  english\n1  100    99       95\n2  102   100       92\n3  107    97       94",
      "text/html": "<div>\n<style scoped>\n    .dataframe tbody tr th:only-of-type {\n        vertical-align: middle;\n    }\n\n    .dataframe tbody tr th {\n        vertical-align: top;\n    }\n\n    .dataframe thead th {\n        text-align: right;\n    }\n</style>\n<table border=\"1\" class=\"dataframe\">\n  <thead>\n    <tr style=\"text-align: right;\">\n      <th></th>\n      <th>id</th>\n      <th>math</th>\n      <th>english</th>\n    </tr>\n  </thead>\n  <tbody>\n    <tr>\n      <th>1</th>\n      <td>100</td>\n      <td>99</td>\n      <td>95</td>\n    </tr>\n    <tr>\n      <th>2</th>\n      <td>102</td>\n      <td>100</td>\n      <td>92</td>\n    </tr>\n    <tr>\n      <th>3</th>\n      <td>107</td>\n      <td>97</td>\n      <td>94</td>\n    </tr>\n  </tbody>\n</table>\n</div>"
     },
     "execution_count": 19,
     "metadata": {},
     "output_type": "execute_result"
    }
   ],
   "source": [
    "df2"
   ],
   "metadata": {
    "collapsed": false,
    "ExecuteTime": {
     "end_time": "2025-09-13T08:22:14.814273Z",
     "start_time": "2025-09-13T08:22:14.810891Z"
    }
   },
   "id": "8f7b2313ade69963"
  },
  {
   "cell_type": "code",
   "execution_count": null,
   "outputs": [],
   "source": [],
   "metadata": {
    "collapsed": false
   },
   "id": "2777324fa9fae469"
  }
 ],
 "metadata": {
  "kernelspec": {
   "display_name": "Python 3",
   "language": "python",
   "name": "python3"
  },
  "language_info": {
   "codemirror_mode": {
    "name": "ipython",
    "version": 2
   },
   "file_extension": ".py",
   "mimetype": "text/x-python",
   "name": "python",
   "nbconvert_exporter": "python",
   "pygments_lexer": "ipython2",
   "version": "2.7.6"
  }
 },
 "nbformat": 4,
 "nbformat_minor": 5
}
