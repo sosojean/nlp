{
 "cells": [
  {
   "cell_type": "code",
   "execution_count": 1,
   "id": "initial_id",
   "metadata": {
    "collapsed": true,
    "ExecuteTime": {
     "end_time": "2025-09-13T07:20:55.891500Z",
     "start_time": "2025-09-13T07:20:55.819371Z"
    }
   },
   "outputs": [
    {
     "name": "stdout",
     "output_type": "stream",
     "text": [
      "[1, 2, 3.7, 4, '5']\n",
      "['1' '2' '3.7' '4' '5']\n"
     ]
    }
   ],
   "source": [
    "import numpy as np\n",
    "\n",
    "list1 = [1, 2, 3.7, 4, '5']\n",
    "\n",
    "arr = np.array(list1)\n",
    "\n",
    "print(list1)\n",
    "print(arr)"
   ]
  },
  {
   "cell_type": "code",
   "execution_count": 3,
   "outputs": [],
   "source": [
    "zeros = np.zeros((3, 4))\n",
    "ones = np.ones((2, 3))\n",
    "id = np.eye(3)"
   ],
   "metadata": {
    "collapsed": false,
    "ExecuteTime": {
     "end_time": "2025-09-13T07:21:26.981706Z",
     "start_time": "2025-09-13T07:21:26.979430Z"
    }
   },
   "id": "f417628e5b852ff6"
  },
  {
   "cell_type": "code",
   "execution_count": 4,
   "outputs": [],
   "source": [
    "r_arr = np.arange(0,10,2)\n",
    "lin_arr = np.linspace(0,100,5)"
   ],
   "metadata": {
    "collapsed": false,
    "ExecuteTime": {
     "end_time": "2025-09-13T07:22:24.570301Z",
     "start_time": "2025-09-13T07:22:24.567245Z"
    }
   },
   "id": "babe8837d213880c"
  },
  {
   "cell_type": "code",
   "execution_count": 5,
   "outputs": [
    {
     "name": "stdout",
     "output_type": "stream",
     "text": [
      "[0 2 4 6 8] [  0.  25.  50.  75. 100.]\n"
     ]
    }
   ],
   "source": [
    "print(r_arr , lin_arr)"
   ],
   "metadata": {
    "collapsed": false,
    "ExecuteTime": {
     "end_time": "2025-09-13T07:22:44.795887Z",
     "start_time": "2025-09-13T07:22:44.789975Z"
    }
   },
   "id": "4d5331843c6bfd10"
  },
  {
   "cell_type": "code",
   "execution_count": 6,
   "outputs": [],
   "source": [
    "array = np.array(\n",
    "    [[[3,2,1],[4,5,6]],\n",
    "     [[9,2,31],[4,15,-6]]]\n",
    ")"
   ],
   "metadata": {
    "collapsed": false,
    "ExecuteTime": {
     "end_time": "2025-09-13T07:26:54.521048Z",
     "start_time": "2025-09-13T07:26:54.519449Z"
    }
   },
   "id": "f9549c3e847087b8"
  },
  {
   "cell_type": "code",
   "execution_count": 8,
   "outputs": [
    {
     "name": "stdout",
     "output_type": "stream",
     "text": [
      "(2, 2, 3)\n",
      "3\n",
      "12\n",
      "int64\n",
      "31\n"
     ]
    }
   ],
   "source": [
    "print(array.shape)\n",
    "print(array.ndim)\n",
    "print(array.size)\n",
    "print(array.dtype)\n",
    "print(array[1][0][2])"
   ],
   "metadata": {
    "collapsed": false,
    "ExecuteTime": {
     "end_time": "2025-09-13T07:28:04.309441Z",
     "start_time": "2025-09-13T07:28:04.304672Z"
    }
   },
   "id": "586c8d649bc9b62d"
  },
  {
   "cell_type": "code",
   "execution_count": 9,
   "outputs": [
    {
     "name": "stdout",
     "output_type": "stream",
     "text": [
      "[1 2 3 4 5]\n"
     ]
    }
   ],
   "source": [
    "arr = np.arange(1,6)\n",
    "\n",
    "print(arr)\n",
    "\n"
   ],
   "metadata": {
    "collapsed": false,
    "ExecuteTime": {
     "end_time": "2025-09-13T07:30:26.521468Z",
     "start_time": "2025-09-13T07:30:26.513211Z"
    }
   },
   "id": "8793d7eb65f84db7"
  },
  {
   "cell_type": "code",
   "execution_count": 11,
   "outputs": [
    {
     "name": "stdout",
     "output_type": "stream",
     "text": [
      "[2 3 4]\n",
      "[2 3 4]\n"
     ]
    }
   ],
   "source": [
    "print(arr[1:4])\n",
    "print(arr[1:-1])\n"
   ],
   "metadata": {
    "collapsed": false,
    "ExecuteTime": {
     "end_time": "2025-09-13T07:30:45.813647Z",
     "start_time": "2025-09-13T07:30:45.812106Z"
    }
   },
   "id": "34a22a1ab86243aa"
  },
  {
   "cell_type": "code",
   "execution_count": 14,
   "outputs": [
    {
     "name": "stdout",
     "output_type": "stream",
     "text": [
      "[1 3 5]\n"
     ]
    }
   ],
   "source": [
    "print(arr[::2])"
   ],
   "metadata": {
    "collapsed": false,
    "ExecuteTime": {
     "end_time": "2025-09-13T07:31:25.935584Z",
     "start_time": "2025-09-13T07:31:25.933432Z"
    }
   },
   "id": "930cdab48668e942"
  },
  {
   "cell_type": "code",
   "execution_count": 15,
   "outputs": [],
   "source": [
    "arr2d = np.array([[1,2,3],[4,5,6]])"
   ],
   "metadata": {
    "collapsed": false,
    "ExecuteTime": {
     "end_time": "2025-09-13T07:32:09.625602Z",
     "start_time": "2025-09-13T07:32:09.617612Z"
    }
   },
   "id": "47de135a21557ce0"
  },
  {
   "cell_type": "code",
   "execution_count": 16,
   "outputs": [
    {
     "data": {
      "text/plain": "array([[1, 2, 3],\n       [4, 5, 6]])"
     },
     "execution_count": 16,
     "metadata": {},
     "output_type": "execute_result"
    }
   ],
   "source": [
    "arr2d"
   ],
   "metadata": {
    "collapsed": false,
    "ExecuteTime": {
     "end_time": "2025-09-13T07:32:13.385845Z",
     "start_time": "2025-09-13T07:32:13.355726Z"
    }
   },
   "id": "ef8b073711f0684c"
  },
  {
   "cell_type": "code",
   "execution_count": 17,
   "outputs": [
    {
     "name": "stdout",
     "output_type": "stream",
     "text": [
      "2\n"
     ]
    }
   ],
   "source": [
    "print(arr2d[0,1])"
   ],
   "metadata": {
    "collapsed": false,
    "ExecuteTime": {
     "end_time": "2025-09-13T07:32:34.413463Z",
     "start_time": "2025-09-13T07:32:34.410566Z"
    }
   },
   "id": "2646a1cfdce7e8bb"
  },
  {
   "cell_type": "code",
   "execution_count": 25,
   "outputs": [
    {
     "data": {
      "text/plain": "array([[1, 2, 3]])"
     },
     "execution_count": 25,
     "metadata": {},
     "output_type": "execute_result"
    }
   ],
   "source": [
    "arr2d[:1]"
   ],
   "metadata": {
    "collapsed": false,
    "ExecuteTime": {
     "end_time": "2025-09-13T07:33:36.680284Z",
     "start_time": "2025-09-13T07:33:36.672335Z"
    }
   },
   "id": "21c2dbf2cffbbab9"
  },
  {
   "cell_type": "code",
   "execution_count": null,
   "outputs": [],
   "source": [],
   "metadata": {
    "collapsed": false
   },
   "id": "fb3eca69ba34d53b"
  }
 ],
 "metadata": {
  "kernelspec": {
   "display_name": "Python 3",
   "language": "python",
   "name": "python3"
  },
  "language_info": {
   "codemirror_mode": {
    "name": "ipython",
    "version": 2
   },
   "file_extension": ".py",
   "mimetype": "text/x-python",
   "name": "python",
   "nbconvert_exporter": "python",
   "pygments_lexer": "ipython2",
   "version": "2.7.6"
  }
 },
 "nbformat": 4,
 "nbformat_minor": 5
}
