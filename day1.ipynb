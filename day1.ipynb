{
 "cells": [
  {
   "cell_type": "code",
   "execution_count": 1,
   "id": "initial_id",
   "metadata": {
    "collapsed": true,
    "ExecuteTime": {
     "end_time": "2025-09-13T07:20:55.891500Z",
     "start_time": "2025-09-13T07:20:55.819371Z"
    }
   },
   "outputs": [
    {
     "name": "stdout",
     "output_type": "stream",
     "text": [
      "[1, 2, 3.7, 4, '5']\n",
      "['1' '2' '3.7' '4' '5']\n"
     ]
    }
   ],
   "source": [
    "import numpy as np\n",
    "\n",
    "list1 = [1, 2, 3.7, 4, '5']\n",
    "\n",
    "arr = np.array(list1)\n",
    "\n",
    "print(list1)\n",
    "print(arr)"
   ]
  },
  {
   "cell_type": "code",
   "execution_count": 3,
   "outputs": [],
   "source": [
    "zeros = np.zeros((3, 4))\n",
    "ones = np.ones((2, 3))\n",
    "id = np.eye(3)"
   ],
   "metadata": {
    "collapsed": false,
    "ExecuteTime": {
     "end_time": "2025-09-13T07:21:26.981706Z",
     "start_time": "2025-09-13T07:21:26.979430Z"
    }
   },
   "id": "f417628e5b852ff6"
  },
  {
   "cell_type": "code",
   "execution_count": 4,
   "outputs": [],
   "source": [
    "r_arr = np.arange(0,10,2)\n",
    "lin_arr = np.linspace(0,100,5)"
   ],
   "metadata": {
    "collapsed": false,
    "ExecuteTime": {
     "end_time": "2025-09-13T07:22:24.570301Z",
     "start_time": "2025-09-13T07:22:24.567245Z"
    }
   },
   "id": "babe8837d213880c"
  },
  {
   "cell_type": "code",
   "execution_count": 5,
   "outputs": [
    {
     "name": "stdout",
     "output_type": "stream",
     "text": [
      "[0 2 4 6 8] [  0.  25.  50.  75. 100.]\n"
     ]
    }
   ],
   "source": [
    "print(r_arr , lin_arr)"
   ],
   "metadata": {
    "collapsed": false,
    "ExecuteTime": {
     "end_time": "2025-09-13T07:22:44.795887Z",
     "start_time": "2025-09-13T07:22:44.789975Z"
    }
   },
   "id": "4d5331843c6bfd10"
  },
  {
   "cell_type": "code",
   "execution_count": 6,
   "outputs": [],
   "source": [
    "array = np.array(\n",
    "    [[[3,2,1],[4,5,6]],\n",
    "     [[9,2,31],[4,15,-6]]]\n",
    ")"
   ],
   "metadata": {
    "collapsed": false,
    "ExecuteTime": {
     "end_time": "2025-09-13T07:26:54.521048Z",
     "start_time": "2025-09-13T07:26:54.519449Z"
    }
   },
   "id": "f9549c3e847087b8"
  },
  {
   "cell_type": "code",
   "execution_count": 8,
   "outputs": [
    {
     "name": "stdout",
     "output_type": "stream",
     "text": [
      "(2, 2, 3)\n",
      "3\n",
      "12\n",
      "int64\n",
      "31\n"
     ]
    }
   ],
   "source": [
    "print(array.shape)\n",
    "print(array.ndim)\n",
    "print(array.size)\n",
    "print(array.dtype)\n",
    "print(array[1][0][2])"
   ],
   "metadata": {
    "collapsed": false,
    "ExecuteTime": {
     "end_time": "2025-09-13T07:28:04.309441Z",
     "start_time": "2025-09-13T07:28:04.304672Z"
    }
   },
   "id": "586c8d649bc9b62d"
  },
  {
   "cell_type": "code",
   "execution_count": 9,
   "outputs": [
    {
     "name": "stdout",
     "output_type": "stream",
     "text": [
      "[1 2 3 4 5]\n"
     ]
    }
   ],
   "source": [
    "arr = np.arange(1,6)\n",
    "\n",
    "print(arr)\n",
    "\n"
   ],
   "metadata": {
    "collapsed": false,
    "ExecuteTime": {
     "end_time": "2025-09-13T07:30:26.521468Z",
     "start_time": "2025-09-13T07:30:26.513211Z"
    }
   },
   "id": "8793d7eb65f84db7"
  },
  {
   "cell_type": "code",
   "execution_count": 11,
   "outputs": [
    {
     "name": "stdout",
     "output_type": "stream",
     "text": [
      "[2 3 4]\n",
      "[2 3 4]\n"
     ]
    }
   ],
   "source": [
    "print(arr[1:4])\n",
    "print(arr[1:-1])\n"
   ],
   "metadata": {
    "collapsed": false,
    "ExecuteTime": {
     "end_time": "2025-09-13T07:30:45.813647Z",
     "start_time": "2025-09-13T07:30:45.812106Z"
    }
   },
   "id": "34a22a1ab86243aa"
  },
  {
   "cell_type": "code",
   "execution_count": 14,
   "outputs": [
    {
     "name": "stdout",
     "output_type": "stream",
     "text": [
      "[1 3 5]\n"
     ]
    }
   ],
   "source": [
    "print(arr[::2])"
   ],
   "metadata": {
    "collapsed": false,
    "ExecuteTime": {
     "end_time": "2025-09-13T07:31:25.935584Z",
     "start_time": "2025-09-13T07:31:25.933432Z"
    }
   },
   "id": "930cdab48668e942"
  },
  {
   "cell_type": "code",
   "execution_count": 15,
   "outputs": [],
   "source": [
    "arr2d = np.array([[1,2,3],[4,5,6]])"
   ],
   "metadata": {
    "collapsed": false,
    "ExecuteTime": {
     "end_time": "2025-09-13T07:32:09.625602Z",
     "start_time": "2025-09-13T07:32:09.617612Z"
    }
   },
   "id": "47de135a21557ce0"
  },
  {
   "cell_type": "code",
   "execution_count": 16,
   "outputs": [
    {
     "data": {
      "text/plain": "array([[1, 2, 3],\n       [4, 5, 6]])"
     },
     "execution_count": 16,
     "metadata": {},
     "output_type": "execute_result"
    }
   ],
   "source": [
    "arr2d"
   ],
   "metadata": {
    "collapsed": false,
    "ExecuteTime": {
     "end_time": "2025-09-13T07:32:13.385845Z",
     "start_time": "2025-09-13T07:32:13.355726Z"
    }
   },
   "id": "ef8b073711f0684c"
  },
  {
   "cell_type": "code",
   "execution_count": 17,
   "outputs": [
    {
     "name": "stdout",
     "output_type": "stream",
     "text": [
      "2\n"
     ]
    }
   ],
   "source": [
    "print(arr2d[0,1])"
   ],
   "metadata": {
    "collapsed": false,
    "ExecuteTime": {
     "end_time": "2025-09-13T07:32:34.413463Z",
     "start_time": "2025-09-13T07:32:34.410566Z"
    }
   },
   "id": "2646a1cfdce7e8bb"
  },
  {
   "cell_type": "code",
   "execution_count": 25,
   "outputs": [
    {
     "data": {
      "text/plain": "array([[1, 2, 3]])"
     },
     "execution_count": 25,
     "metadata": {},
     "output_type": "execute_result"
    }
   ],
   "source": [
    "arr2d[:1]"
   ],
   "metadata": {
    "collapsed": false,
    "ExecuteTime": {
     "end_time": "2025-09-13T07:33:36.680284Z",
     "start_time": "2025-09-13T07:33:36.672335Z"
    }
   },
   "id": "21c2dbf2cffbbab9"
  },
  {
   "cell_type": "code",
   "execution_count": 30,
   "outputs": [
    {
     "data": {
      "text/plain": "array([0.49460165, 0.2280831 , 0.25547392, 0.39632991, 0.3773151 ])"
     },
     "execution_count": 30,
     "metadata": {},
     "output_type": "execute_result"
    }
   ],
   "source": [
    "np.random.seed(50)\n",
    "rand_arr = np.random.random(5)\n",
    "rand_arr"
   ],
   "metadata": {
    "collapsed": false,
    "ExecuteTime": {
     "end_time": "2025-09-13T07:36:56.631869Z",
     "start_time": "2025-09-13T07:36:56.630512Z"
    }
   },
   "id": "fb3eca69ba34d53b"
  },
  {
   "cell_type": "code",
   "execution_count": 31,
   "outputs": [],
   "source": [
    "y = np.random.randint(1,7,5)"
   ],
   "metadata": {
    "collapsed": false,
    "ExecuteTime": {
     "end_time": "2025-09-13T07:37:18.944410Z",
     "start_time": "2025-09-13T07:37:18.942544Z"
    }
   },
   "id": "f8e7987db3ac6d50"
  },
  {
   "cell_type": "code",
   "execution_count": 32,
   "outputs": [
    {
     "data": {
      "text/plain": "array([6, 6, 3, 3, 5])"
     },
     "execution_count": 32,
     "metadata": {},
     "output_type": "execute_result"
    }
   ],
   "source": [
    "y"
   ],
   "metadata": {
    "collapsed": false,
    "ExecuteTime": {
     "end_time": "2025-09-13T07:37:20.355801Z",
     "start_time": "2025-09-13T07:37:20.345327Z"
    }
   },
   "id": "2d8eefe7dbd85bf5"
  },
  {
   "cell_type": "code",
   "execution_count": 37,
   "outputs": [],
   "source": [
    "z= np.random.normal(50,10,5)"
   ],
   "metadata": {
    "collapsed": false,
    "ExecuteTime": {
     "end_time": "2025-09-13T07:39:18.996428Z",
     "start_time": "2025-09-13T07:39:18.995817Z"
    }
   },
   "id": "8d9b66140b11cb37"
  },
  {
   "cell_type": "code",
   "execution_count": 38,
   "outputs": [
    {
     "data": {
      "text/plain": "array([41.57482086, 47.04506198, 43.1303919 , 58.89520727, 50.87534609])"
     },
     "execution_count": 38,
     "metadata": {},
     "output_type": "execute_result"
    }
   ],
   "source": [
    "z"
   ],
   "metadata": {
    "collapsed": false,
    "ExecuteTime": {
     "end_time": "2025-09-13T07:39:19.428157Z",
     "start_time": "2025-09-13T07:39:19.425183Z"
    }
   },
   "id": "46bc9834d72f088f"
  },
  {
   "cell_type": "code",
   "execution_count": 41,
   "outputs": [],
   "source": [
    "q = np.arange(1, 6)"
   ],
   "metadata": {
    "collapsed": false,
    "ExecuteTime": {
     "end_time": "2025-09-13T07:41:23.918986Z",
     "start_time": "2025-09-13T07:41:23.914137Z"
    }
   },
   "id": "6dca2ffc25ee5bd"
  },
  {
   "cell_type": "code",
   "execution_count": 42,
   "outputs": [],
   "source": [
    "choice = np.random.choice(q,3)"
   ],
   "metadata": {
    "collapsed": false,
    "ExecuteTime": {
     "end_time": "2025-09-13T07:41:31.450959Z",
     "start_time": "2025-09-13T07:41:31.444414Z"
    }
   },
   "id": "9a07c5c4c0d12d56"
  },
  {
   "cell_type": "code",
   "execution_count": 43,
   "outputs": [
    {
     "data": {
      "text/plain": "array([1, 4, 3])"
     },
     "execution_count": 43,
     "metadata": {},
     "output_type": "execute_result"
    }
   ],
   "source": [
    "choice"
   ],
   "metadata": {
    "collapsed": false,
    "ExecuteTime": {
     "end_time": "2025-09-13T07:41:34.392035Z",
     "start_time": "2025-09-13T07:41:34.382542Z"
    }
   },
   "id": "ab1757fb75d0ddb8"
  },
  {
   "cell_type": "code",
   "execution_count": 47,
   "outputs": [],
   "source": [
    "q = np.array([\"가위\",\"바위\",\"보\"])"
   ],
   "metadata": {
    "collapsed": false,
    "ExecuteTime": {
     "end_time": "2025-09-13T07:42:59.543895Z",
     "start_time": "2025-09-13T07:42:59.541517Z"
    }
   },
   "id": "293f299b5dcd7ab1"
  },
  {
   "cell_type": "code",
   "execution_count": null,
   "outputs": [],
   "source": [
    "\n",
    "choice = np.random.choice(q,2)\n",
    "print(choice)"
   ],
   "metadata": {
    "collapsed": false
   },
   "id": "490486a022fc41b0"
  },
  {
   "cell_type": "markdown",
   "source": [],
   "metadata": {
    "collapsed": false
   },
   "id": "daf96c93aa959b01"
  },
  {
   "cell_type": "code",
   "execution_count": 49,
   "outputs": [
    {
     "name": "stdout",
     "output_type": "stream",
     "text": [
      "[3 4 5]\n"
     ]
    }
   ],
   "source": [
    "a = np.arange(1,6)\n",
    "\n",
    "mask = a>2\n",
    "\n",
    "print(a[mask])"
   ],
   "metadata": {
    "collapsed": false,
    "ExecuteTime": {
     "end_time": "2025-09-13T07:45:07.481392Z",
     "start_time": "2025-09-13T07:45:07.471610Z"
    }
   },
   "id": "2d27339b89cfcce5"
  },
  {
   "cell_type": "code",
   "execution_count": 53,
   "outputs": [],
   "source": [
    "result = np.where(a > 3 , a , a**2)"
   ],
   "metadata": {
    "collapsed": false,
    "ExecuteTime": {
     "end_time": "2025-09-13T07:46:51.720362Z",
     "start_time": "2025-09-13T07:46:51.718568Z"
    }
   },
   "id": "170cc809e178cdfd"
  },
  {
   "cell_type": "code",
   "execution_count": 54,
   "outputs": [
    {
     "data": {
      "text/plain": "array([1, 4, 9, 4, 5])"
     },
     "execution_count": 54,
     "metadata": {},
     "output_type": "execute_result"
    }
   ],
   "source": [
    "result"
   ],
   "metadata": {
    "collapsed": false,
    "ExecuteTime": {
     "end_time": "2025-09-13T07:46:52.178979Z",
     "start_time": "2025-09-13T07:46:52.175363Z"
    }
   },
   "id": "a0dd57ebae1d9bd4"
  },
  {
   "cell_type": "code",
   "execution_count": 61,
   "outputs": [],
   "source": [
    "b = np.arange(1,13)"
   ],
   "metadata": {
    "collapsed": false,
    "ExecuteTime": {
     "end_time": "2025-09-13T08:02:02.194606Z",
     "start_time": "2025-09-13T08:02:02.186941Z"
    }
   },
   "id": "96d2fadb658059d7"
  },
  {
   "cell_type": "code",
   "execution_count": 62,
   "outputs": [],
   "source": [
    "r = b.reshape(2,2,3)"
   ],
   "metadata": {
    "collapsed": false,
    "ExecuteTime": {
     "end_time": "2025-09-13T08:02:02.245387Z",
     "start_time": "2025-09-13T08:02:02.237845Z"
    }
   },
   "id": "fe814f67f3b1ae1d"
  },
  {
   "cell_type": "code",
   "execution_count": 64,
   "outputs": [
    {
     "data": {
      "text/plain": "array([[[ 1,  2,  3],\n        [ 4,  5,  6]],\n\n       [[ 7,  8,  9],\n        [10, 11, 12]]])"
     },
     "execution_count": 64,
     "metadata": {},
     "output_type": "execute_result"
    }
   ],
   "source": [
    "r\n"
   ],
   "metadata": {
    "collapsed": false,
    "ExecuteTime": {
     "end_time": "2025-09-13T08:02:10.851083Z",
     "start_time": "2025-09-13T08:02:10.845468Z"
    }
   },
   "id": "d2248e15372e6fc0"
  },
  {
   "cell_type": "code",
   "execution_count": 65,
   "outputs": [
    {
     "data": {
      "text/plain": "array([[[ 1,  7],\n        [ 4, 10]],\n\n       [[ 2,  8],\n        [ 5, 11]],\n\n       [[ 3,  9],\n        [ 6, 12]]])"
     },
     "execution_count": 65,
     "metadata": {},
     "output_type": "execute_result"
    }
   ],
   "source": [
    "r.T"
   ],
   "metadata": {
    "collapsed": false,
    "ExecuteTime": {
     "end_time": "2025-09-13T08:02:13.628615Z",
     "start_time": "2025-09-13T08:02:13.609889Z"
    }
   },
   "id": "8e30fa803b4d97fb"
  },
  {
   "cell_type": "code",
   "execution_count": 66,
   "outputs": [],
   "source": [
    "f = r.flatten()"
   ],
   "metadata": {
    "collapsed": false,
    "ExecuteTime": {
     "end_time": "2025-09-13T08:03:59.111126Z",
     "start_time": "2025-09-13T08:03:59.089444Z"
    }
   },
   "id": "982c22a857667a7b"
  },
  {
   "cell_type": "code",
   "execution_count": 67,
   "outputs": [
    {
     "name": "stdout",
     "output_type": "stream",
     "text": [
      "[ 1  2  3  4  5  6  7  8  9 10 11 12]\n"
     ]
    }
   ],
   "source": [
    "print(f)"
   ],
   "metadata": {
    "collapsed": false,
    "ExecuteTime": {
     "end_time": "2025-09-13T08:04:01.854371Z",
     "start_time": "2025-09-13T08:04:01.842431Z"
    }
   },
   "id": "822b5614387d42f6"
  },
  {
   "cell_type": "code",
   "execution_count": 68,
   "outputs": [],
   "source": [
    "m = np.array([4,25,9,16])"
   ],
   "metadata": {
    "collapsed": false,
    "ExecuteTime": {
     "end_time": "2025-09-13T08:05:13.063937Z",
     "start_time": "2025-09-13T08:05:13.053267Z"
    }
   },
   "id": "53e6a224d8ff82be"
  },
  {
   "cell_type": "code",
   "execution_count": 69,
   "outputs": [
    {
     "name": "stdout",
     "output_type": "stream",
     "text": [
      "[2. 5. 3. 4.]\n"
     ]
    }
   ],
   "source": [
    "print(np.sqrt(m))"
   ],
   "metadata": {
    "collapsed": false,
    "ExecuteTime": {
     "end_time": "2025-09-13T08:05:28.025306Z",
     "start_time": "2025-09-13T08:05:28.009931Z"
    }
   },
   "id": "ef3244b2255cae43"
  },
  {
   "cell_type": "code",
   "execution_count": 71,
   "outputs": [
    {
     "name": "stdout",
     "output_type": "stream",
     "text": [
      "[5.45981500e+01 7.20048993e+10 8.10308393e+03 8.88611052e+06]\n"
     ]
    }
   ],
   "source": [
    "print(np.exp(m))"
   ],
   "metadata": {
    "collapsed": false,
    "ExecuteTime": {
     "end_time": "2025-09-13T08:06:00.260553Z",
     "start_time": "2025-09-13T08:06:00.256634Z"
    }
   },
   "id": "7663f5739f34b818"
  },
  {
   "cell_type": "code",
   "execution_count": 72,
   "outputs": [
    {
     "name": "stdout",
     "output_type": "stream",
     "text": [
      "[1.38629436 3.21887582 2.19722458 2.77258872]\n"
     ]
    }
   ],
   "source": [
    "print(np.log(m))"
   ],
   "metadata": {
    "collapsed": false,
    "ExecuteTime": {
     "end_time": "2025-09-13T08:06:22.733007Z",
     "start_time": "2025-09-13T08:06:22.645039Z"
    }
   },
   "id": "6babf20d57320550"
  },
  {
   "cell_type": "code",
   "execution_count": 73,
   "outputs": [],
   "source": [
    "n = np.array([0, np.pi/2, np.pi])"
   ],
   "metadata": {
    "collapsed": false,
    "ExecuteTime": {
     "end_time": "2025-09-13T08:07:14.912052Z",
     "start_time": "2025-09-13T08:07:14.897779Z"
    }
   },
   "id": "93923d8fc39cc1eb"
  },
  {
   "cell_type": "code",
   "execution_count": 74,
   "outputs": [
    {
     "name": "stdout",
     "output_type": "stream",
     "text": [
      "[0.         1.57079633 3.14159265]\n"
     ]
    }
   ],
   "source": [
    "print(n)"
   ],
   "metadata": {
    "collapsed": false,
    "ExecuteTime": {
     "end_time": "2025-09-13T08:07:22.070208Z",
     "start_time": "2025-09-13T08:07:22.055162Z"
    }
   },
   "id": "91943bc83a2d3bf5"
  },
  {
   "cell_type": "code",
   "execution_count": 75,
   "outputs": [
    {
     "name": "stdout",
     "output_type": "stream",
     "text": [
      "[0.0000000e+00 1.0000000e+00 1.2246468e-16]\n"
     ]
    }
   ],
   "source": [
    "print(np.sin(n))"
   ],
   "metadata": {
    "collapsed": false,
    "ExecuteTime": {
     "end_time": "2025-09-13T08:07:40.715428Z",
     "start_time": "2025-09-13T08:07:40.687643Z"
    }
   },
   "id": "231c2ef7f755b578"
  },
  {
   "cell_type": "code",
   "execution_count": 76,
   "outputs": [
    {
     "name": "stdout",
     "output_type": "stream",
     "text": [
      "[ 1.000000e+00  6.123234e-17 -1.000000e+00]\n"
     ]
    }
   ],
   "source": [
    "print(np.cos(n))"
   ],
   "metadata": {
    "collapsed": false,
    "ExecuteTime": {
     "end_time": "2025-09-13T08:07:51.625729Z",
     "start_time": "2025-09-13T08:07:51.602239Z"
    }
   },
   "id": "b5b352221cb77350"
  },
  {
   "cell_type": "code",
   "execution_count": 79,
   "outputs": [],
   "source": [
    "r = m.reshape(2,2)"
   ],
   "metadata": {
    "collapsed": false,
    "ExecuteTime": {
     "end_time": "2025-09-13T08:09:17.083182Z",
     "start_time": "2025-09-13T08:09:17.082393Z"
    }
   },
   "id": "509ccf4e43158c5d"
  },
  {
   "cell_type": "code",
   "execution_count": 80,
   "outputs": [
    {
     "data": {
      "text/plain": "array([[ 4, 25],\n       [ 9, 16]])"
     },
     "execution_count": 80,
     "metadata": {},
     "output_type": "execute_result"
    }
   ],
   "source": [
    "r"
   ],
   "metadata": {
    "collapsed": false,
    "ExecuteTime": {
     "end_time": "2025-09-13T08:09:19.544361Z",
     "start_time": "2025-09-13T08:09:19.521934Z"
    }
   },
   "id": "a8c45d7bbc2bf473"
  },
  {
   "cell_type": "code",
   "execution_count": 81,
   "outputs": [
    {
     "data": {
      "text/plain": "array([[ 4,  9],\n       [25, 16]])"
     },
     "execution_count": 81,
     "metadata": {},
     "output_type": "execute_result"
    }
   ],
   "source": [
    "r.T"
   ],
   "metadata": {
    "collapsed": false,
    "ExecuteTime": {
     "end_time": "2025-09-13T08:09:37.238888Z",
     "start_time": "2025-09-13T08:09:37.227264Z"
    }
   },
   "id": "5aa8a05032f33ae2"
  },
  {
   "cell_type": "code",
   "execution_count": null,
   "outputs": [],
   "source": [],
   "metadata": {
    "collapsed": false
   },
   "id": "186993985aa795f0"
  }
 ],
 "metadata": {
  "kernelspec": {
   "display_name": "Python 3",
   "language": "python",
   "name": "python3"
  },
  "language_info": {
   "codemirror_mode": {
    "name": "ipython",
    "version": 2
   },
   "file_extension": ".py",
   "mimetype": "text/x-python",
   "name": "python",
   "nbconvert_exporter": "python",
   "pygments_lexer": "ipython2",
   "version": "2.7.6"
  }
 },
 "nbformat": 4,
 "nbformat_minor": 5
}
